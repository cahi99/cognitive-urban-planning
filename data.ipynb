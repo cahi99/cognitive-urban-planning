{
 "cells": [
  {
   "cell_type": "code",
   "execution_count": 48,
   "metadata": {
    "collapsed": false
   },
   "outputs": [],
   "source": [
    "import pandas as pc\n",
    "from sklearn.cluster import KMeans\n",
    "##Predio1 = pd.open_workbook(\"/media/cahi/_dde_data/urban cognitive planning/predios/2019_05/EXCEL/PREDIO.xlsx\")\n",
    "dataset= pc.read_csv('/media/cahi/_dde_data/urban cognitive planning/predios/2019_05/EXCEL/PROPIETARIO.csv', encoding = 'latin-1', sep=';')\n",
    "##lote1 = pd.open_workbook(\"/media/cahi/_dde_data/urban cognitive planning/predios/2019_05/EXCEL/LOTE.xlsx\")\n",
    "\n",
    "#se elimina los datos que no seran usados\n",
    "del dataset['CAT_T_EXTENSION_NOMBRE']\n",
    "del dataset['PORCENTAJE_DDAA']\n",
    "del dataset['PE_NUM_IDENTIFICACION']\n",
    "#se asignan los dataframes de X e Y\n",
    "X=dataset.iloc[:, 0:3+1].values\n",
    "Y=dataset.iloc[:, 3].values\n"
   ]
  },
  {
   "cell_type": "code",
   "execution_count": 49,
   "metadata": {
    "collapsed": false
   },
   "outputs": [],
   "source": [
    "#conversion de los datos para poder trabajarlos\n",
    "dataset[3]=dataset['CAT_T_PROPIETARIO_NOMBRE'].astype(str)\n",
    "dataset[0]=dataset['CAT_PREDIO_ID'].astype(int)\n",
    "dataset[1]=dataset['CIM'].astype(int)\n",
    "dataset[2]=dataset['PE_DENOMINACION'].astype(str)"
   ]
  },
  {
   "cell_type": "code",
   "execution_count": 50,
   "metadata": {
    "collapsed": false
   },
   "outputs": [],
   "source": [
    "#transformar los datos vacios \n",
    "from sklearn.impute import SimpleImputer\n",
    "imputer = SimpleImputer(missing_values = 'NaN', strategy = 'constant')\n",
    "imputer = imputer.fit(X[:, 0:3])\n",
    "X[:, 0:3] = imputer.transform(X[:, 0:3])"
   ]
  },
  {
   "cell_type": "code",
   "execution_count": 51,
   "metadata": {
    "collapsed": false
   },
   "outputs": [],
   "source": [
    "#conversionn del dataframe\n",
    "X[:,3]=X[:,3].astype(str)\n",
    "Y=Y.astype(str)"
   ]
  },
  {
   "cell_type": "code",
   "execution_count": 52,
   "metadata": {
    "collapsed": false
   },
   "outputs": [],
   "source": [
    "#Codificacion de los dataframe\n",
    "from sklearn.preprocessing import LabelEncoder, OneHotEncoder\n",
    "labelencoder_X = LabelEncoder()\n",
    "X[:, 3] = labelencoder_X.fit_transform(X[:, 3])\n",
    "#Categorizacion de la variable Denomicacion de propiedad \n",
    "onehotencoder = OneHotEncoder(categories='auto')\n",
    "X = onehotencoder.fit_transform(X)\n",
    "labelencoder_Y = LabelEncoder()\n",
    "Y = labelencoder_Y.fit(Y).transform(Y)"
   ]
  },
  {
   "cell_type": "code",
   "execution_count": 53,
   "metadata": {
    "collapsed": false
   },
   "outputs": [],
   "source": [
    "#creacion de los dataframe de entrenamiento y pruebas\n",
    "from sklearn.model_selection import train_test_split\n",
    "X_train, X_test, Y_train, Y_test = train_test_split(X,Y, test_size = 0.2, random_state=0)"
   ]
  },
  {
   "cell_type": "code",
   "execution_count": 54,
   "metadata": {
    "collapsed": false
   },
   "outputs": [],
   "source": [
    "from sklearn.preprocessing import StandardScaler\n",
    "sc_X= StandardScaler(with_mean=False)\n",
    "X_train = sc_X.fit_transform(X_train)\n",
    "X_test= sc_X.fit_transform(X_test)"
   ]
  }
 ],
 "metadata": {
  "kernelspec": {
   "display_name": "Python 3",
   "language": "python",
   "name": "python3"
  },
  "language_info": {
   "codemirror_mode": {
    "name": "ipython",
    "version": 3
   },
   "file_extension": ".py",
   "mimetype": "text/x-python",
   "name": "python",
   "nbconvert_exporter": "python",
   "pygments_lexer": "ipython3",
   "version": "3.5.3"
  }
 },
 "nbformat": 4,
 "nbformat_minor": 2
}
